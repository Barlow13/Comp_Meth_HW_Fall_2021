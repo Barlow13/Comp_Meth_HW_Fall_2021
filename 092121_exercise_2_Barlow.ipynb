{
 "cells": [
  {
   "cell_type": "markdown",
   "metadata": {},
   "source": [
    "### 3. Let x = 10 and y = 3. Write a line of code that will make each of the following assignments."
   ]
  },
  {
   "cell_type": "code",
   "execution_count": 1,
   "metadata": {},
   "outputs": [
    {
     "name": "stdout",
     "output_type": "stream",
     "text": [
      "u = 13\n",
      "v = 30\n",
      "w = 3.3333333333333335\n",
      "z = -0.5440211108893698 \n",
      "r = -4.352168887114958 \n",
      "s = -4.940158120464309 \n",
      "p = 1000\n"
     ]
    }
   ],
   "source": [
    "import math\n",
    "\n",
    "x = 10\n",
    "y = 3\n",
    "\n",
    "u = x + y\n",
    "v = x * y\n",
    "w = x / y\n",
    "z = math.sin(x)\n",
    "r = 8 * math.sin(x)\n",
    "s = 5 * math.sin(x * y)\n",
    "p = x**y\n",
    "\n",
    "print(f\"u = {u}\\nv = {v}\\nw = {w}\\nz = {z} \\nr = {r} \\ns = {s} \\np = {p}\")"
   ]
  },
  {
   "cell_type": "markdown",
   "metadata": {},
   "source": [
    "### 4. Show all the variables in the jupyter notebook after you finsh problem 3."
   ]
  },
  {
   "cell_type": "code",
   "execution_count": 2,
   "metadata": {},
   "outputs": [
    {
     "name": "stdout",
     "output_type": "stream",
     "text": [
      "Variable   Type      Data/Info\n",
      "------------------------------\n",
      "math       module    <module 'math' (built-in)>\n",
      "p          int       1000\n",
      "r          float     -4.352168887114958\n",
      "s          float     -4.940158120464309\n",
      "u          int       13\n",
      "v          int       30\n",
      "w          float     3.3333333333333335\n",
      "x          int       10\n",
      "y          int       3\n",
      "z          float     -0.5440211108893698\n"
     ]
    }
   ],
   "source": [
    "%whos"
   ]
  },
  {
   "cell_type": "markdown",
   "metadata": {},
   "source": [
    "### 5. Assign string \"123\" to the varaible S. Convert the string into a float type and assign the output to the variable N. Verify that S is a string and N is a float using the type function."
   ]
  },
  {
   "cell_type": "code",
   "execution_count": 3,
   "metadata": {},
   "outputs": [
    {
     "name": "stdout",
     "output_type": "stream",
     "text": [
      "N = 123.0\n",
      "S is a <class 'str'>\n",
      "N is <class 'float'>\n"
     ]
    }
   ],
   "source": [
    "S = \"123\"\n",
    "N = float(S)\n",
    "\n",
    "print(f\"N = {N}\\nS is a {type(S)}\\nN is {type(N)}\")"
   ]
  },
  {
   "cell_type": "markdown",
   "metadata": {},
   "source": [
    "### 6. Assign the string \"HELLO\" to the variable s1 and the string \"hello\" to the variable s2. Use the == operator to show that they are not equal. Use the == operator to show that s1 and s2 are equal if the lower method is used on s1. Use the == operator to show that s1 and s2 are equal if upper method is used on s2."
   ]
  },
  {
   "cell_type": "code",
   "execution_count": 4,
   "metadata": {},
   "outputs": [
    {
     "name": "stdout",
     "output_type": "stream",
     "text": [
      "s1 == s2 is False\n",
      "s1.lower() == s2 is True\n",
      "s1 == s2.upper() is True\n",
      "\n"
     ]
    }
   ],
   "source": [
    "s1 = \"HELLO\"\n",
    "s2 = \"hello\"\n",
    "\n",
    "print(f\"s1 == s2 is {s1 == s2}\\ns1.lower() == s2 is {s1.lower() == s2}\\ns1 == s2.upper() is {s1 == s2.upper()}\\n\")"
   ]
  },
  {
   "cell_type": "markdown",
   "metadata": {},
   "source": [
    "### 7. use the print function to generate the following strings"
   ]
  },
  {
   "cell_type": "code",
   "execution_count": 5,
   "metadata": {},
   "outputs": [
    {
     "name": "stdout",
     "output_type": "stream",
     "text": [
      "The world \"Engineering\" has 11 leters.\n",
      "The word \"Book\" has 4 leters.\n"
     ]
    }
   ],
   "source": [
    "word1 = \"Engineering\"\n",
    "word2 = \"Book\"\n",
    "\n",
    "\n",
    "print(f\"The world \\\"{word1}\\\" has {len(word1)} leters.\")\n",
    "print(f\"The word \\\"{word2}\\\" has {len(word2)} leters.\")\n"
   ]
  },
  {
   "cell_type": "markdown",
   "metadata": {},
   "source": [
    "### 8. Check if \"python\" is in \"Python is great!\""
   ]
  },
  {
   "cell_type": "code",
   "execution_count": 6,
   "metadata": {
    "scrolled": true
   },
   "outputs": [
    {
     "name": "stdout",
     "output_type": "stream",
     "text": [
      "\"python\" is in \"Python is great!\"\n"
     ]
    }
   ],
   "source": [
    "string1 = \"Python is great\"\n",
    "string2 = \"Python\"\n",
    "\n",
    "if string2 in string1:\n",
    "    print(\"\\\"python\\\" is in \\\"Python is great!\\\"\")\n",
    "else:\n",
    "    print(\"\\\"python\\\" is not \\\"Python is great!\\\"\")"
   ]
  },
  {
   "cell_type": "markdown",
   "metadata": {},
   "source": [
    "### 9. Get the last word \"great\" from \"Python is great!\""
   ]
  },
  {
   "cell_type": "code",
   "execution_count": 7,
   "metadata": {},
   "outputs": [
    {
     "name": "stdout",
     "output_type": "stream",
     "text": [
      "The word great is found in location 2 of the list.\n"
     ]
    }
   ],
   "source": [
    "string1 = \"Python is great\"\n",
    "\n",
    "list1 = string1.split()\n",
    "\n",
    "location = list1.index(\"great\")\n",
    "\n",
    "print(f\"The word {list1[location]} is found in location {location} of the list.\")\n"
   ]
  },
  {
   "cell_type": "markdown",
   "metadata": {},
   "source": [
    "### 10. Assign list [ 1, 8, 9, 15] to a variable list_a and insert 2 at index 1 using the insert method. Append 4 to the list_a using the append method."
   ]
  },
  {
   "cell_type": "code",
   "execution_count": 8,
   "metadata": {},
   "outputs": [
    {
     "name": "stdout",
     "output_type": "stream",
     "text": [
      "The following list is: [1, 2, 8, 9, 15, 4]\n"
     ]
    }
   ],
   "source": [
    "list_a = [1 , 8, 9, 15]\n",
    "\n",
    "list_a.insert(1,2)\n",
    "list_a.append(4)\n",
    "\n",
    "print(f\"The following list is: {list_a}\")"
   ]
  },
  {
   "cell_type": "markdown",
   "metadata": {},
   "source": [
    "### 11. Sort the list_a in problem 10 in ascending order"
   ]
  },
  {
   "cell_type": "code",
   "execution_count": 9,
   "metadata": {},
   "outputs": [
    {
     "name": "stdout",
     "output_type": "stream",
     "text": [
      "The following list is: [1, 2, 8, 9, 15, 4]\n",
      "The following list in ascending order is: [1, 2, 4, 8, 9, 15]\n"
     ]
    }
   ],
   "source": [
    "list_a = [1 , 8, 9, 15]\n",
    "\n",
    "list_a.insert(1,2)\n",
    "list_a.append(4)\n",
    "\n",
    "print(f\"The following list is: {list_a}\")\n",
    "list_a.sort()\n",
    "print(f\"The following list in ascending order is: {list_a}\")\n"
   ]
  },
  {
   "cell_type": "markdown",
   "metadata": {},
   "source": [
    "### 12. Turn \"Python is great!\" into a list"
   ]
  },
  {
   "cell_type": "code",
   "execution_count": 10,
   "metadata": {},
   "outputs": [
    {
     "name": "stdout",
     "output_type": "stream",
     "text": [
      "\"Python is great!\" as a list is: ['Python', 'is', 'great']\n"
     ]
    }
   ],
   "source": [
    "string1 = \"Python is great\"\n",
    "\n",
    "list1 = string1.split()\n",
    "\n",
    "print(f\"\\\"Python is great!\\\" as a list is: {list1}\")\n"
   ]
  },
  {
   "cell_type": "markdown",
   "metadata": {},
   "source": [
    "### 13. Create one tuple with element \"One\", and assign it to tuple_a."
   ]
  },
  {
   "cell_type": "code",
   "execution_count": 11,
   "metadata": {},
   "outputs": [
    {
     "name": "stdout",
     "output_type": "stream",
     "text": [
      "('One', 1)\n"
     ]
    }
   ],
   "source": [
    "tuple_a = (\"One\",1)\n",
    "print(tuple_a)"
   ]
  },
  {
   "cell_type": "markdown",
   "metadata": {},
   "source": [
    "### 14. Get the second element in the tuple_a in problem 13."
   ]
  },
  {
   "cell_type": "code",
   "execution_count": 12,
   "metadata": {},
   "outputs": [
    {
     "name": "stdout",
     "output_type": "stream",
     "text": [
      "1\n"
     ]
    }
   ],
   "source": [
    "print(tuple_a[1])"
   ]
  },
  {
   "cell_type": "markdown",
   "metadata": {},
   "source": [
    "### 15. Get the unique element from (2, 3, 2, 3, 1, 2, 5)."
   ]
  },
  {
   "cell_type": "code",
   "execution_count": 13,
   "metadata": {},
   "outputs": [
    {
     "name": "stdout",
     "output_type": "stream",
     "text": [
      "{1, 2, 3, 5}\n"
     ]
    }
   ],
   "source": [
    "element = (2, 3, 2, 3, 1, 2, 5)\n",
    "\n",
    "print(set(element))"
   ]
  },
  {
   "cell_type": "markdown",
   "metadata": {},
   "source": [
    "### 16. Assign (2, 3, 2) to set_a, and (1, 2, 3) to set_b. Obtain the Following:\n",
    "* Union of set_a and set_b\n",
    "* intersection of set_a and set_b\n",
    "* difference of set_a to set_b using difference method"
   ]
  },
  {
   "cell_type": "code",
   "execution_count": 14,
   "metadata": {},
   "outputs": [
    {
     "name": "stdout",
     "output_type": "stream",
     "text": [
      "Union = {1, 2, 3}\n",
      "Intersection = {2, 3}\n",
      "Difference = set()\n"
     ]
    }
   ],
   "source": [
    "set_a = {2, 3, 2}\n",
    "set_b = {1, 2, 3}\n",
    "\n",
    "\n",
    "union = set_a.union(set_b)\n",
    "intersection = set_a.intersection(set_b)\n",
    "difference = set_a.difference(set_b)\n",
    "\n",
    "print(f\"Union = {union}\\nIntersection = {intersection}\\nDifference = {difference}\")"
   ]
  },
  {
   "cell_type": "markdown",
   "metadata": {},
   "source": [
    "### 17. Create a dictionary that has the keys \"A\", \"B\", \"C\" with values \"a\", \"b\", \"c\" individually. Print all the keys in the dictionary."
   ]
  },
  {
   "cell_type": "code",
   "execution_count": 15,
   "metadata": {},
   "outputs": [
    {
     "name": "stdout",
     "output_type": "stream",
     "text": [
      "dict_keys(['A', 'B', 'C'])\n"
     ]
    }
   ],
   "source": [
    "dictionary = {\"A\":\"a\" , \"B\":\"b\", \"C\":\"c\"}\n",
    "print(dictionary.keys())"
   ]
  },
  {
   "cell_type": "markdown",
   "metadata": {},
   "source": [
    "### 18. Check if keys \"B\" is in the dictionary defined in Problem 17."
   ]
  },
  {
   "cell_type": "code",
   "execution_count": 16,
   "metadata": {},
   "outputs": [
    {
     "name": "stdout",
     "output_type": "stream",
     "text": [
      "B is in dictionary\n"
     ]
    }
   ],
   "source": [
    "if \"B\" in dictionary:\n",
    "    print(\"B is in dictionary\")\n",
    "else:\n",
    "    print(\"B is not in dictionary\")"
   ]
  },
  {
   "cell_type": "markdown",
   "metadata": {},
   "source": [
    "### 19. Create array x and y, where x = [1, 4, 3, 2, 9, 4] and y = [2, 3, 4, 1, 2, 3]. Compute the assignments from problem 3"
   ]
  },
  {
   "cell_type": "code",
   "execution_count": 17,
   "metadata": {
    "scrolled": true
   },
   "outputs": [
    {
     "name": "stdout",
     "output_type": "stream",
     "text": [
      "u = [ 3  7  7  3 11  7]\n",
      "v = [ 2 12 12  2 18 12]\n",
      "w = [0.5        1.33333333 0.75       2.         4.5        1.33333333]\n",
      "z = [ 0.84147098 -0.7568025   0.14112001  0.90929743  0.41211849 -0.7568025 ] \n",
      "r = [ 6.73176788 -6.05441996  1.12896006  7.27437941  3.29694788 -6.05441996] \n",
      "s = [ 4.54648713 -2.68286459 -2.68286459  4.54648713 -3.75493623 -2.68286459] \n",
      "p = [ 1 64 81  2 81 64]\n"
     ]
    }
   ],
   "source": [
    "import math\n",
    "import numpy\n",
    "\n",
    "x = numpy.array([1, 4, 3, 2, 9, 4])\n",
    "y = numpy.array([2, 3, 4, 1, 2, 3])\n",
    "\n",
    "u = x + y\n",
    "v = x * y\n",
    "w = x / y\n",
    "z = numpy.sin(x)\n",
    "r = 8 * numpy.sin(x)\n",
    "s = 5 * numpy.sin(x * y)\n",
    "p = x**y\n",
    "\n",
    "print(f\"u = {u}\\nv = {v}\\nw = {w}\\nz = {z} \\nr = {r} \\ns = {s} \\np = {p}\")\n",
    "\n"
   ]
  },
  {
   "cell_type": "markdown",
   "metadata": {},
   "source": [
    "### 20. Generate an array with size 100 evenly spaced between -10 to 10 using linspace function in NumPy."
   ]
  },
  {
   "cell_type": "code",
   "execution_count": 18,
   "metadata": {},
   "outputs": [
    {
     "name": "stdout",
     "output_type": "stream",
     "text": [
      "[-10.          -9.7979798   -9.5959596   -9.39393939  -9.19191919\n",
      "  -8.98989899  -8.78787879  -8.58585859  -8.38383838  -8.18181818\n",
      "  -7.97979798  -7.77777778  -7.57575758  -7.37373737  -7.17171717\n",
      "  -6.96969697  -6.76767677  -6.56565657  -6.36363636  -6.16161616\n",
      "  -5.95959596  -5.75757576  -5.55555556  -5.35353535  -5.15151515\n",
      "  -4.94949495  -4.74747475  -4.54545455  -4.34343434  -4.14141414\n",
      "  -3.93939394  -3.73737374  -3.53535354  -3.33333333  -3.13131313\n",
      "  -2.92929293  -2.72727273  -2.52525253  -2.32323232  -2.12121212\n",
      "  -1.91919192  -1.71717172  -1.51515152  -1.31313131  -1.11111111\n",
      "  -0.90909091  -0.70707071  -0.50505051  -0.3030303   -0.1010101\n",
      "   0.1010101    0.3030303    0.50505051   0.70707071   0.90909091\n",
      "   1.11111111   1.31313131   1.51515152   1.71717172   1.91919192\n",
      "   2.12121212   2.32323232   2.52525253   2.72727273   2.92929293\n",
      "   3.13131313   3.33333333   3.53535354   3.73737374   3.93939394\n",
      "   4.14141414   4.34343434   4.54545455   4.74747475   4.94949495\n",
      "   5.15151515   5.35353535   5.55555556   5.75757576   5.95959596\n",
      "   6.16161616   6.36363636   6.56565657   6.76767677   6.96969697\n",
      "   7.17171717   7.37373737   7.57575758   7.77777778   7.97979798\n",
      "   8.18181818   8.38383838   8.58585859   8.78787879   8.98989899\n",
      "   9.19191919   9.39393939   9.5959596    9.7979798   10.        ]\n"
     ]
    }
   ],
   "source": [
    "array = numpy.linspace(-10,10,num = 100)\n",
    "\n",
    "print(array)"
   ]
  },
  {
   "cell_type": "markdown",
   "metadata": {},
   "source": [
    "### 21. Let array_a be an array [-1, 0, 1, 2, 0, 3]. Write a command tha will return an array consisting of all the elements of array_a that are larger than zero."
   ]
  },
  {
   "cell_type": "code",
   "execution_count": 19,
   "metadata": {},
   "outputs": [
    {
     "name": "stdout",
     "output_type": "stream",
     "text": [
      "[1 2 3]\n"
     ]
    }
   ],
   "source": [
    "import numpy\n",
    "\n",
    "array_a = numpy.array([-1, 0, 1, 2, 0, 3])\n",
    "array_b = array_a[array_a>0]\n",
    "\n",
    "print(array_b)\n"
   ]
  },
  {
   "cell_type": "markdown",
   "metadata": {},
   "source": [
    "### 22. create an array and calculate its transpose."
   ]
  },
  {
   "cell_type": "code",
   "execution_count": 20,
   "metadata": {},
   "outputs": [
    {
     "name": "stdout",
     "output_type": "stream",
     "text": [
      "[[3 2 3]\n",
      " [5 2 8]\n",
      " [5 5 9]]\n"
     ]
    }
   ],
   "source": [
    "import numpy\n",
    "y = numpy.array([[3, 5, 5],[2, 2, 5],[3, 8, 9]])\n",
    "print(numpy.transpose(y))\n"
   ]
  },
  {
   "cell_type": "markdown",
   "metadata": {},
   "source": [
    "### 23. Create a 2 x 4 zero array."
   ]
  },
  {
   "cell_type": "code",
   "execution_count": 21,
   "metadata": {},
   "outputs": [
    {
     "name": "stdout",
     "output_type": "stream",
     "text": [
      "[[0. 0. 0. 0.]\n",
      " [0. 0. 0. 0.]]\n"
     ]
    }
   ],
   "source": [
    "import numpy\n",
    "ZeroArray = numpy.zeros((2,4))\n",
    "print(ZeroArray)"
   ]
  },
  {
   "cell_type": "markdown",
   "metadata": {},
   "source": [
    "### 24. Change the second coloumn in the above array to 1."
   ]
  },
  {
   "cell_type": "code",
   "execution_count": 22,
   "metadata": {},
   "outputs": [
    {
     "name": "stdout",
     "output_type": "stream",
     "text": [
      "[[0. 1. 0. 0.]\n",
      " [0. 1. 0. 0.]]\n"
     ]
    }
   ],
   "source": [
    "import numpy\n",
    "ZeroArray[0,1]=1\n",
    "ZeroArray[1,1]=1\n",
    "print(ZeroArray)"
   ]
  },
  {
   "cell_type": "markdown",
   "metadata": {},
   "source": [
    "### 25. Write a magic command to clear all the variables in the Jupyter notebook."
   ]
  },
  {
   "cell_type": "code",
   "execution_count": 23,
   "metadata": {},
   "outputs": [
    {
     "name": "stdout",
     "output_type": "stream",
     "text": [
      "Once deleted, variables cannot be recovered. Proceed (y/[n])? y\n"
     ]
    }
   ],
   "source": [
    "%reset"
   ]
  }
 ],
 "metadata": {
  "kernelspec": {
   "display_name": "Python 3",
   "language": "python",
   "name": "python3"
  },
  "language_info": {
   "codemirror_mode": {
    "name": "ipython",
    "version": 3
   },
   "file_extension": ".py",
   "mimetype": "text/x-python",
   "name": "python",
   "nbconvert_exporter": "python",
   "pygments_lexer": "ipython3",
   "version": "3.8.8"
  }
 },
 "nbformat": 4,
 "nbformat_minor": 4
}
