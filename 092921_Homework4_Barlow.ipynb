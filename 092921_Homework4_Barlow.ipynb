{
 "cells": [
  {
   "cell_type": "markdown",
   "id": "f5a63dad",
   "metadata": {},
   "source": [
    "### 4.2 Write a function my_mult_operation(a,b,operation). The input argument, operation, is a string that is either \"plus\", \"minus\", \"mult\", \"div\", or \"pow\", and the function should compute:  a + b, a - b, a*b, a/b, and a^b for the respective values for operation. A couple of test cases are given below."
   ]
  },
  {
   "cell_type": "code",
   "execution_count": 1,
   "id": "076759f1",
   "metadata": {},
   "outputs": [
    {
     "name": "stdout",
     "output_type": "stream",
     "text": [
      "x array is =\t[1 2 3 4]\n",
      "y array is =\t[2 3 4 5]\n",
      "x + y =\t\t[3 5 7 9]\n",
      "x - y =\t\t[-1 -1 -1 -1]\n",
      "x * y =\t\t[ 2  6 12 20]\n",
      "x / y =\t\t[0.5        0.66666667 0.75       0.8       ]\n",
      "x ** y =\t[   1    8   81 1024]\n"
     ]
    }
   ],
   "source": [
    "import numpy as np\n",
    "def my_mul_operation(a,b,operation):\n",
    "    if operation == \"plus\":\n",
    "        return a + b\n",
    "    if operation == \"minus\":\n",
    "        return a - b\n",
    "    if operation == \"mult\":\n",
    "        return a * b\n",
    "    if operation == \"div\":\n",
    "        return a / b\n",
    "    if operation == \"pow\":\n",
    "        return a ** b\n",
    "    \n",
    "x = np.array([1,2,3,4])\n",
    "y = np.array([2,3,4,5])\n",
    "\n",
    "print(f\"x array is =\\t{x}\")\n",
    "print(f\"y array is =\\t{y}\")\n",
    "print(f\"x + y =\\t\\t{my_mul_operation(x,y,'plus')}\")\n",
    "print(f\"x - y =\\t\\t{my_mul_operation(x,y,'minus')}\")\n",
    "print(f\"x * y =\\t\\t{my_mul_operation(x,y,'mult')}\")\n",
    "print(f\"x / y =\\t\\t{my_mul_operation(x,y,'div')}\")\n",
    "print(f\"x ** y =\\t{my_mul_operation(x,y,'pow')}\")"
   ]
  },
  {
   "cell_type": "markdown",
   "id": "e6ceb584",
   "metadata": {},
   "source": [
    "### 4.3 Consider a triangle with vertices at (0,0), (1,0) and (0,1). Write a function with the name my_inside_triangle(x,y) where the output is the stirng \"outside\" if the point is exactly on the border of the triangle, and \"inside\" if the point is on the inside of the triangle."
   ]
  },
  {
   "cell_type": "code",
   "execution_count": 2,
   "id": "72949f01",
   "metadata": {},
   "outputs": [
    {
     "name": "stdout",
     "output_type": "stream",
     "text": [
      "if x = 0.5 and y = 0.5 then it is: Border\n",
      "if x = 0.25 and y = 0.25 then it is: Inside\n",
      "if x = 5 abd y = 5 then it is: Outside\n"
     ]
    }
   ],
   "source": [
    "import math\n",
    "def my_inside_triangle(x,y):\n",
    "    Ax = 0\n",
    "    Ay = 0\n",
    "    Bx = 1\n",
    "    By = 0\n",
    "    Cx = 0\n",
    "    Cy = 1\n",
    "    AreaMain = abs((Ax*(By-Cy)+Bx*(Cy-Ay)+Cx*(Ay-By))/2)\n",
    "    Area1 = abs((x*(By-Cy)+Bx*(Cy-y)+Cx*(y-By))/2)\n",
    "    Area2 = abs((Ax*(y-Cy)+x*(Cy-Ay)+Cx*(Ay-y))/2)\n",
    "    Area3 = abs((Ax*(By-y)+Bx*(y-Ay)+x*(Ay-By))/2)\n",
    "    if Area1 + Area2 + Area3 == AreaMain:\n",
    "        if Area1 == 0 or Area2 == 0 or Area3 == 0:\n",
    "            return \"Border\"\n",
    "        else:\n",
    "            return \"Inside\"\n",
    "    else: \n",
    "        return \"Outside\"\n",
    "    \n",
    "    \n",
    "    \n",
    "print(f\"if x = 0.5 and y = 0.5 then it is: {my_inside_triangle(.5,.5)}\")\n",
    "print(f\"if x = 0.25 and y = 0.25 then it is: {my_inside_triangle(.25,.25)}\")\n",
    "print(f\"if x = 5 abd y = 5 then it is: {my_inside_triangle(5,5)}\")\n",
    "\n",
    "    \n",
    "    "
   ]
  },
  {
   "cell_type": "markdown",
   "id": "0578fb17",
   "metadata": {},
   "source": [
    "### 4.7 Most engineering systems have a built in redudancy. That is, an engineering system has fail-safes incorporated into the design to accomplish its purpose. Consider a nuclear reactor whose temperature is monitored by three sensors. An alarm should go off if any two of the sensor readings disagree. Write a function my_nuke_alarm(s1,s2,s3) wher s1, s2, and s3 are the temperature readings for sensor 1, sensor 2, and sensor 3, respectively. The output should be the string \"alarm!\" if any two of the temperature readings disagree by strictly more than 10 degrees and \"normal\" otherwise."
   ]
  },
  {
   "cell_type": "code",
   "execution_count": 3,
   "id": "052dc9f0",
   "metadata": {},
   "outputs": [
    {
     "name": "stdout",
     "output_type": "stream",
     "text": [
      "my_nuke_alarm(94,96,90):\tnormal\n",
      "my_nuke_alarm(94,96,80):\talarm!\n",
      "my_nuke_alarm(100,96,90):\tnormal\n"
     ]
    }
   ],
   "source": [
    "def my_nuke_alarm(s1,s2,s3):    \n",
    "    if (abs(s1-s2)>10)or(abs(s1-s3)>10)or(abs(s2-s3)>10):\n",
    "        return \"alarm!\"\n",
    "    else:\n",
    "        return \"normal\"\n",
    "print(f\"my_nuke_alarm(94,96,90):\\t{my_nuke_alarm(94,96,90)}\")\n",
    "print(f\"my_nuke_alarm(94,96,80):\\t{my_nuke_alarm(94,96,80)}\")\n",
    "print(f\"my_nuke_alarm(100,96,90):\\t{my_nuke_alarm(100,96,90)}\")    "
   ]
  },
  {
   "cell_type": "markdown",
   "id": "e822ae78",
   "metadata": {},
   "source": [
    "### 4.8 Let Q(x) be the quadratic equation Q(x) = ax^2+bx+c for some scalar values a, b, and c. A root of Q(x) is an r such that Q(r)=0. The two roots of a quadratic equation can be described by the quadratic formula, which is r=(-b±sqrt(b^2-4ac))/2a. A quadratic equation has either two real roots (i.e, b^2 > 4ac), two imaginary roots (i.e., b^2 < 4ac), or one root r = -b/2a. Write a function my_n_roots(a,b,c) where a, b, and c are the coefficients of the quadratic Q(x). The function should return two values: n_roots and r. Also n_roots is 2 if Q has two real roots, 1 if Q has one root, -2 if Q has two imaginary roots, and r is an array containing the roots of Q."
   ]
  },
  {
   "cell_type": "code",
   "execution_count": 4,
   "id": "5e9560b3",
   "metadata": {},
   "outputs": [
    {
     "name": "stdout",
     "output_type": "stream",
     "text": [
      "('n_roots = 2', [3.0, -3.0])\n",
      "('n_roots = -2', [(-0.6667+1.1055j), (-0.6667-1.1055j)])\n",
      "('n_roots = 1', [-1.0])\n"
     ]
    }
   ],
   "source": [
    "import math as m\n",
    "def my_n_roots(a,b,c):\n",
    "    rlist = []*2\n",
    "    n_roots = \"\"\n",
    "    r = -b/(2*a)\n",
    "    if b**2 < 4*a*c:\n",
    "        n_roots = \"n_roots = -2\"\n",
    "        rPlus = complex(round(r,4),round(+(m.sqrt(abs((b**2)-4*a*c))/(2*a)),4))\n",
    "        rMinus = complex(round(r,4),round(-(m.sqrt(abs((b**2)-4*a*c)))/(2*a),4))\n",
    "        rlist = [rPlus,rMinus]\n",
    "    elif b**2 > 4*a*c:\n",
    "        n_roots = \"n_roots = 2\"\n",
    "        rPlus = (-b+m.sqrt((b**2)-4*a*c))/(2*a)\n",
    "        rMinus = (-b-m.sqrt((b**2)-4*a*c))/(2*a)\n",
    "        rlist = [rPlus,rMinus]\n",
    "    else: \n",
    "        n_roots = \"n_roots = 1\"\n",
    "        rlist = [r]\n",
    "    return (n_roots,rlist)\n",
    "print(my_n_roots(1,0,-9))\n",
    "print(my_n_roots(3,4,5))\n",
    "print(my_n_roots(2,4,2))"
   ]
  },
  {
   "cell_type": "markdown",
   "id": "6e8c762a",
   "metadata": {},
   "source": [
    "### 5.3 Write a function my_n_max(x,n) to return a list cosisting of the n largest elements of x. You may use Python's max function. you may also assume that x is a one-dimensional list with no duplicate entries, and that n is a strictly positive interger smaller than the length of x."
   ]
  },
  {
   "cell_type": "code",
   "execution_count": 5,
   "id": "de3da5d2",
   "metadata": {},
   "outputs": [
    {
     "name": "stdout",
     "output_type": "stream",
     "text": [
      "[10, 9, 8]\n"
     ]
    }
   ],
   "source": [
    "x = [7,9,10,5,8,3,4,6,2,1]\n",
    "n = 3\n",
    "def my_n_max(x,n):\n",
    "    out = []*n\n",
    "    for i in range(n):\n",
    "        Max = max(x)\n",
    "        out.append(Max)\n",
    "        x.remove(Max)\n",
    "    return out\n",
    "out = my_n_max(x,n)\n",
    "print(out)"
   ]
  },
  {
   "cell_type": "markdown",
   "id": "2c90c54c",
   "metadata": {},
   "source": [
    "### 5.4 write a function my_trig_odd_even(m)"
   ]
  },
  {
   "cell_type": "code",
   "execution_count": 6,
   "id": "9efe34e0",
   "metadata": {},
   "outputs": [
    {
     "data": {
      "text/plain": [
       "[[0.84, -0.42, 0.14], [0.84, -0.42, 0.14]]"
      ]
     },
     "execution_count": 6,
     "metadata": {},
     "output_type": "execute_result"
    }
   ],
   "source": [
    "import math\n",
    "def my_trig_odd_even(m):\n",
    "    q=m\n",
    "    for i in range(len(m)):\n",
    "        for j in range(len(m[0])):\n",
    "            if (m[i][j] %2) == 1:\n",
    "                q[i][j] = round(math.sin(m[i][j]),2)\n",
    "            else:\n",
    "                q[i][j] = round(math.cos(m[i][j]),2)\n",
    "    return q\n",
    "my_trig_odd_even(m=[[1,2,3],[1,2,3]])\n",
    "    "
   ]
  },
  {
   "cell_type": "markdown",
   "id": "8f41fda9",
   "metadata": {},
   "source": [
    "### 5.5 Let P be an m x p array and Q be a p x n array. As you will find later in this book, M=PxQ is defined as M[i,j]=blah blah. Write a function my_mat_mult(P,Q) that uses for-loops to compute M, the matrix product of P * Q."
   ]
  },
  {
   "cell_type": "code",
   "execution_count": 7,
   "id": "2e444b8d",
   "metadata": {},
   "outputs": [
    {
     "name": "stdout",
     "output_type": "stream",
     "text": [
      "[[3.0, 3.0, 3.0], [3.0, 3.0, 3.0], [3.0, 3.0, 3.0]]\n",
      "[[70, 70, 70, 0], [70, 70, 70, 0]]\n"
     ]
    }
   ],
   "source": [
    "import numpy as np\n",
    "def my_mat_mult(P,Q):\n",
    "    M = [[0]*len(Q)]*len(P)\n",
    "    for i in range(0,len(P)):\n",
    "        for j in range(0,len(Q[0])):\n",
    "            M[i][j]=0\n",
    "            for k in range(0,len(P[0])):\n",
    "                M[i][j]+=P[i][k]*Q[k][j]\n",
    "    return M\n",
    "P = np.ones((3,3))\n",
    "print(my_mat_mult(P,P))\n",
    "P = np.array([[1,2,3,4],[5,6,7,8]])\n",
    "Q = np.array([[1,1,1],[2,2,2],[3,3,3],[4,4,4]])\n",
    "print(my_mat_mult(P,Q))"
   ]
  },
  {
   "cell_type": "markdown",
   "id": "c4f48447",
   "metadata": {},
   "source": [
    "### 5.8 Assume you are rolling two six-sided dice, with each side having an equal chance of occurring. Write a function my_monopoly_dice() where the output is the sum of the values of the two dice thrown but with the following extra rule: if the two dice rolls are the same, then another roll is made, and the new sum added to the running total. For example, if the two dice show 3 and 4, then the running total should be 7. If the two dice show 1 and 1, then the running total should be 2 plus the total of another throw. Rolls stop when the dice rolls are different."
   ]
  },
  {
   "cell_type": "code",
   "execution_count": 8,
   "id": "db4633dd",
   "metadata": {},
   "outputs": [
    {
     "data": {
      "text/plain": [
       "('Dice1 = 4 and Dice2 = 5', 'Rolling Total = 11')"
      ]
     },
     "execution_count": 8,
     "metadata": {},
     "output_type": "execute_result"
    }
   ],
   "source": [
    "import random\n",
    "def my_monopoly_dice():\n",
    "    RollingTotal = 0\n",
    "    loop = True\n",
    "    while loop:\n",
    "        Dice1 = random.randrange(1,6)\n",
    "        Dice2 = random.randrange(1,6)\n",
    "        RollingTotal+=Dice1+Dice2\n",
    "        if Dice1 != Dice2:\n",
    "            loop = False\n",
    "    return (f\"Dice1 = {Dice1} and Dice2 = {Dice2}\",f\"Rolling Total = {RollingTotal}\")\n",
    "\n",
    "my_monopoly_dice()\n",
    "        "
   ]
  },
  {
   "cell_type": "markdown",
   "id": "3c1e7d64",
   "metadata": {},
   "source": [
    "### 5.12 Write a function my_trig_odd_even(M) where the output Q[i,j] = sin(pi/M[i,j]) if M[i,j] is odd, and Q[i,j] = cos(pi/M[i,j]) if M[i,j] is even. Assume that M is a two-dimensional array of strictly positive integers."
   ]
  },
  {
   "cell_type": "code",
   "execution_count": 9,
   "id": "26b627c9",
   "metadata": {},
   "outputs": [
    {
     "data": {
      "text/plain": [
       "[[0.866, 0.7071], [0.866, 0.4339]]"
      ]
     },
     "execution_count": 9,
     "metadata": {},
     "output_type": "execute_result"
    }
   ],
   "source": [
    "import math\n",
    "def my_trig_odd_even(m):\n",
    "    q=m\n",
    "    for i in range(len(m)):\n",
    "        for j in range(len(m[0])):\n",
    "            if (m[i][j] %2) == 1:\n",
    "                q[i][j] = round(math.sin(math.pi/m[i][j]),4)\n",
    "            else:\n",
    "                q[i][j] = round(math.cos(math.pi/m[i][j]),4)\n",
    "    return q\n",
    "my_trig_odd_even(m=[[3,4],[6,7]])"
   ]
  }
 ],
 "metadata": {
  "kernelspec": {
   "display_name": "Python 3",
   "language": "python",
   "name": "python3"
  },
  "language_info": {
   "codemirror_mode": {
    "name": "ipython",
    "version": 3
   },
   "file_extension": ".py",
   "mimetype": "text/x-python",
   "name": "python",
   "nbconvert_exporter": "python",
   "pygments_lexer": "ipython3",
   "version": "3.8.8"
  }
 },
 "nbformat": 4,
 "nbformat_minor": 5
}
