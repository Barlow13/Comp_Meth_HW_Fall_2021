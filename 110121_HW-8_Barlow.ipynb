{
 "cells": [
  {
   "cell_type": "markdown",
   "id": "702a0b5c",
   "metadata": {},
   "source": [
    "### SP1 Write code to perform a dot product on two vectors with any number of dimensions. Do not use built-in functions in python/numpy to do this. Demonstrate it works correctly using a problem from HW 7."
   ]
  },
  {
   "cell_type": "code",
   "execution_count": 5,
   "id": "6dd0d0aa",
   "metadata": {},
   "outputs": [
    {
     "name": "stdout",
     "output_type": "stream",
     "text": [
      "How many indexs in matrix 4\n",
      "Input value for A1 7.2\n",
      "Input value for A2 -4.3\n",
      "Input value for A3 0.6\n",
      "Input value for A4 1.7\n",
      "Input value for B1 -11\n",
      "Input value for B2 11.8\n",
      "Input value for B3 2.4\n",
      "Input value for B4 -1.9\n",
      "A matrix is [7.2, -4.3, 0.6, 1.7]\n",
      "B matrix is [-11.0, 11.8, 2.4, -1.9]\n",
      "A dot B is -131.73\n"
     ]
    }
   ],
   "source": [
    "def DotProduct():\n",
    "    A = []\n",
    "    B = []\n",
    "    AB = 0\n",
    "    index = int(input(\"How many indexs in matrix \"))\n",
    "    for i in range(0, index):\n",
    "        A.append(float(input(f\"Input value for A{i+1} \")))\n",
    "    for i in range(0,index):    \n",
    "        B.append(float(input(f\"Input value for B{i+1} \")))\n",
    "    print(f\"A matrix is {A}\")\n",
    "    print(f\"B matrix is {B}\")\n",
    "    for i in range(0, index):\n",
    "        AB += (A[i] * B[i])\n",
    "    print(f\"A dot B is {AB}\")\n",
    "    return\n",
    "DotProduct()"
   ]
  },
  {
   "cell_type": "markdown",
   "id": "b5633769",
   "metadata": {},
   "source": [
    "### SP2 Write code to perform a vector cross product. Write this to work for three dimensions. Use vectors from HW 7 to demonstrate this works. Work the problem out by hand to verify the answer is correct. Note the output in this case is a vector."
   ]
  },
  {
   "cell_type": "code",
   "execution_count": 6,
   "id": "9d065cbd",
   "metadata": {},
   "outputs": [
    {
     "name": "stdout",
     "output_type": "stream",
     "text": [
      "Input value for A00: 1\n",
      "Input value for A01: 3\n",
      "Input value for A02: 0\n",
      "Input value for A10: 2\n",
      "Input value for A11: -1\n",
      "Input value for A12: 0\n",
      "Input value for A20: 3\n",
      "Input value for A21: 2\n",
      "Input value for A22: 0\n",
      "Input value for B00: 0\n",
      "Input value for B01: 0\n",
      "Input value for B02: 0\n",
      "Input value for B10: 0\n",
      "Input value for B11: 0\n",
      "Input value for B12: 0\n",
      "Input value for B20: 2\n",
      "Input value for B21: 5\n",
      "Input value for B22: 7\n",
      "A matrix is\n",
      "[[ 1.  3.  0.]\n",
      " [ 2. -1.  0.]\n",
      " [ 3.  2.  0.]]\n",
      "B matrix is\n",
      "[[0. 0. 0.]\n",
      " [0. 0. 0.]\n",
      " [2. 5. 7.]]\n",
      "Cross vector is\n",
      "[[  0.   0.   0.]\n",
      " [ -0.   0.   0.]\n",
      " [ 14. -21.  11.]]\n"
     ]
    }
   ],
   "source": [
    "import numpy as np\n",
    "def cross_product_3x3():\n",
    "    dimension = 3\n",
    "    A = np.empty([dimension,dimension])\n",
    "    B = np.empty([dimension,dimension])\n",
    "    for i in range(0, dimension):\n",
    "        for j in range(0,dimension):\n",
    "            A[i][j] = float(input(f\"Input value for A{i}{j}: \"))\n",
    "    for i in range(0, dimension):\n",
    "        for j in range(0,dimension):\n",
    "            B[i][j] = float(input(f\"Input value for B{i}{j}: \"))\n",
    "    print(f\"A matrix is\\n{A}\")\n",
    "    print(f\"B matrix is\\n{B}\")\n",
    "    print(f\"Cross vector is\\n{np.cross(A,B)}\")\n",
    "    return\n",
    "cross_product_3x3()"
   ]
  },
  {
   "cell_type": "markdown",
   "id": "a38fb530",
   "metadata": {},
   "source": [
    "### SP3 Write code to perform matrix multiplication. Note the matrices may be any number of dimensions (as long as you can actually multiply them). "
   ]
  },
  {
   "cell_type": "code",
   "execution_count": 7,
   "id": "8a6f4745",
   "metadata": {},
   "outputs": [
    {
     "name": "stdout",
     "output_type": "stream",
     "text": [
      "How many Rows in matrix A 3\n",
      "How many Columns in matrix A 3\n",
      "How many Rows in matrix B 3\n",
      "How many Columns in matrix B 3\n",
      "Input value for A11 1\n",
      "Input value for A12 3\n",
      "Input value for A13 0\n",
      "Input value for A21 2\n",
      "Input value for A22 -1\n",
      "Input value for A23 0\n",
      "Input value for A31 3\n",
      "Input value for A32 2\n",
      "Input value for A33 0\n",
      "Input value for B11 0\n",
      "Input value for B12 0\n",
      "Input value for B13 0\n",
      "Input value for B21 0\n",
      "Input value for B22 0\n",
      "Input value for B23 0\n",
      "Input value for B31 2\n",
      "Input value for B32 5\n",
      "Input value for B33 7\n",
      "A matrix is\n",
      "[[ 1.  3.  0.]\n",
      " [ 2. -1.  0.]\n",
      " [ 3.  2.  0.]]\n",
      "B matrix is\n",
      "[[0. 0. 0.]\n",
      " [0. 0. 0.]\n",
      " [2. 5. 7.]]\n",
      "A multiplied by B is\n",
      "[[0. 0. 0.]\n",
      " [0. 0. 0.]\n",
      " [0. 0. 0.]]\n"
     ]
    }
   ],
   "source": [
    "import numpy as np\n",
    "def matrix_multi():\n",
    "    Arows = int(input(\"How many Rows in matrix A \"))\n",
    "    Acols = int(input(\"How many Columns in matrix A \"))\n",
    "    Brows = int(input(\"How many Rows in matrix B \"))\n",
    "    Bcols = int(input(\"How many Columns in matrix B \"))\n",
    "    A = np.empty([Arows, Acols])\n",
    "    B = np.empty([Brows, Bcols])\n",
    "    AB = np.empty([Arows, Bcols])\n",
    "    for i in range(0, Arows):\n",
    "        for j in range(0, Acols):\n",
    "            A[i][j] = ((float(input(f\"Input value for A{i + 1}{j + 1} \"))))\n",
    "    for i in range(0, Brows):\n",
    "        for j in range(0, Bcols):\n",
    "            B[i][j] = (float(input(f\"Input value for B{i + 1}{j + 1} \")))\n",
    "    print(f\"A matrix is\\n{A}\")\n",
    "    print(f\"B matrix is\\n{B}\")\n",
    "    for i in range(0, Arows):\n",
    "        for j in range(0, Bcols):\n",
    "            sum = 0\n",
    "            for k in range(0, Bcols):\n",
    "                sum += (A[i][k]) * (B[k][j])\n",
    "            AB[i][j] = (sum)\n",
    "    print(f\"A multiplied by B is\\n{AB}\")\n",
    "    return\n",
    "matrix_multi()"
   ]
  },
  {
   "cell_type": "markdown",
   "id": "e6d30413",
   "metadata": {},
   "source": [
    "### SP4 Write code to perform Cramer's rule for a 3x3 matrix problem. Demonstrate this works by using your code to solve the 3x3 Cramer's rule problem from HW7."
   ]
  },
  {
   "cell_type": "code",
   "execution_count": 8,
   "id": "5f0c9c06",
   "metadata": {
    "scrolled": true
   },
   "outputs": [
    {
     "name": "stdout",
     "output_type": "stream",
     "text": [
      "How many Rows in matrix A 3\n",
      "How many Columns in matrix A 3\n",
      "How many Rows in matrix B 3\n",
      "How many Columns in matrix B 1\n",
      "Input value for A11 1\n",
      "Input value for A12 2\n",
      "Input value for A13 3\n",
      "Input value for A21 3\n",
      "Input value for A22 1\n",
      "Input value for A23 -3\n",
      "Input value for A31 -3\n",
      "Input value for A32 4\n",
      "Input value for A33 7\n",
      "Input value for B11 -5\n",
      "Input value for B21 4\n",
      "Input value for B31 -7\n",
      "A matrix is\n",
      "[[ 1.  2.  3.]\n",
      " [ 3.  1. -3.]\n",
      " [-3.  4.  7.]]\n",
      "B matrix is\n",
      "[[-5.]\n",
      " [ 4.]\n",
      " [-7.]]\n",
      "X = [-1.]\n",
      "Y = [1.]\n",
      "Z = [-2.]\n"
     ]
    }
   ],
   "source": [
    "import numpy as np\n",
    "\n",
    "def cramers_rule():\n",
    "    Arows = int(input(\"How many Rows in matrix A \"))\n",
    "    Acols = int(input(\"How many Columns in matrix A \"))\n",
    "    Brows = int(input(\"How many Rows in matrix B \"))\n",
    "    Bcols = int(input(\"How many Columns in matrix B \"))\n",
    "    A = np.empty([Arows, Acols])\n",
    "    B = np.empty([Brows, Bcols])\n",
    "    AB = np.empty([Arows, Bcols])\n",
    "    for i in range(0, Arows):\n",
    "        for j in range(0, Acols):\n",
    "            A[i][j] = ((float(input(f\"Input value for A{i + 1}{j + 1} \"))))\n",
    "    for i in range(0, Brows):\n",
    "        for j in range(0, Bcols):\n",
    "            B[i][j] = (float(input(f\"Input value for B{i + 1}{j + 1} \")))\n",
    "    print(f\"A matrix is\\n{A}\")\n",
    "    print(f\"B matrix is\\n{B}\")\n",
    "    D = ((A[0][0] * A[1][1] * A[2][2]) + (A[0][1] * A[1][2] * A[2][0]) + (A[0][2] * A[1][0] * A[2][1])) - (\n",
    "            (A[0][0] * A[1][2] * A[2][1]) + (A[0][1] * A[1][0] * A[2][2]) + (A[0][2] * A[1][1] * A[2][0]))\n",
    "    Dx = ((B[0] * A[1][1] * A[2][2]) + (A[0][1] * A[1][2] * B[2]) + (A[0][2] * B[1] * A[2][1])) - (\n",
    "            (B[0] * A[1][2] * A[2][1]) + (A[0][1] * B[1] * A[2][2]) + (A[0][2] * A[1][1] * B[2]))\n",
    "\n",
    "    Dy = ((A[0][0] * B[1] * A[2][2]) + (B[0] * A[1][2] * A[2][0]) + (A[0][2] * A[1][0] * B[2])) - (\n",
    "            (A[0][0] * A[1][2] * B[2]) + (B[0] * A[1][0] * A[2][2]) + (A[0][2] * B[1] * A[2][0]))\n",
    "\n",
    "    Dz = ((A[0][0] * A[1][1] * B[2]) + (A[0][1] * B[1] * A[2][0]) + (B[0] * A[1][0] * A[2][1])) - (\n",
    "            (A[0][0] * B[1] * A[2][1]) + (A[0][1] * A[1][0] * B[2]) + (B[0] * A[1][1] * A[2][0]))\n",
    "    X = Dx / D\n",
    "    Y = Dy / D\n",
    "    Z = Dz / D\n",
    "    print(f\"X = {X}\\nY = {Y}\\nZ = {Z}\")\n",
    "    return\n",
    "\n",
    "cramers_rule()"
   ]
  },
  {
   "cell_type": "markdown",
   "id": "7a00bc5f",
   "metadata": {},
   "source": [
    "### SP5 Write code to perform back substitution. Note use examples from the lecture notes to test your code."
   ]
  },
  {
   "cell_type": "code",
   "execution_count": 9,
   "id": "f25bd5c2",
   "metadata": {},
   "outputs": [
    {
     "data": {
      "text/plain": [
       "array([ 3, -1, -2])"
      ]
     },
     "execution_count": 9,
     "metadata": {},
     "output_type": "execute_result"
    }
   ],
   "source": [
    "import numpy as np\n",
    "\n",
    "A = np.array([[1,-3,1],[2,-8,8],[-6,3,-15]])\n",
    "B = np.array([4,-2,9])\n",
    "import numpy as np\n",
    "def gauss_elimin(A,B):\n",
    "    n = len(B)\n",
    "    for i in range(0,n-1):\n",
    "        for j in range(i+1,n):\n",
    "            if A[j,i] != 0.0:\n",
    "                k = A[j,i]/A[i,i]\n",
    "                A[j,i+1:n] = A[j,i+1:n] - k*A[i,i+1:n]\n",
    "                B[j] = B[j] - k*B[i]\n",
    "    for k in range(n-1,-1,-1):\n",
    "        B[k] = (B[k] - np.dot(A[k,k+1:n],B[k+1:n]))/A[k,k]\n",
    "    return B\n",
    "gauss_elimin(A,B)"
   ]
  },
  {
   "cell_type": "markdown",
   "id": "88482d66",
   "metadata": {},
   "source": [
    "### SP6 Write code to perform addition and subtraction for two matrices. Demonstrate that your code works with a problem from HW 7."
   ]
  },
  {
   "cell_type": "code",
   "execution_count": 10,
   "id": "6f4aa9e1",
   "metadata": {},
   "outputs": [
    {
     "name": "stdout",
     "output_type": "stream",
     "text": [
      "How many Rows in matrix A 1\n",
      "How many Columns in matrix A 4\n",
      "How many Rows in matrix B 1\n",
      "How many Columns in matrix B 4\n",
      "Input value for A11 7.2\n",
      "Input value for A12 -4.3\n",
      "Input value for A13 0.6\n",
      "Input value for A14 1.7\n",
      "Input value for B11 -11.0\n",
      "Input value for B12 11.8\n",
      "Input value for B13 2.4\n",
      "Input value for B14 -1.9\n",
      "A matrix is\n",
      "[[ 7.2 -4.3  0.6  1.7]]\n",
      "B matrix is\n",
      "[[-11.   11.8   2.4  -1.9]]\n",
      "A + B is\n",
      "[[-3.8  7.5  3.  -0.2]]\n",
      "A - B is\n",
      "[[ 18.2 -16.1  -1.8   3.6]]\n"
     ]
    }
   ],
   "source": [
    "import numpy as np\n",
    "\n",
    "def add_subtract():\n",
    "    Arows = int(input(\"How many Rows in matrix A \"))\n",
    "    Acols = int(input(\"How many Columns in matrix A \"))\n",
    "    Brows = int(input(\"How many Rows in matrix B \"))\n",
    "    Bcols = int(input(\"How many Columns in matrix B \"))\n",
    "    A = np.empty([Arows, Acols])\n",
    "    B = np.empty([Brows, Bcols])\n",
    "    AB = np.empty([Arows, Bcols])\n",
    "    for i in range(0, Arows):\n",
    "        for j in range(0, Acols):\n",
    "            A[i][j] = ((float(input(f\"Input value for A{i + 1}{j + 1} \"))))\n",
    "    for i in range(0, Brows):\n",
    "        for j in range(0, Bcols):\n",
    "            B[i][j] = (float(input(f\"Input value for B{i + 1}{j + 1} \")))\n",
    "    print(f\"A matrix is\\n{A}\")\n",
    "    print(f\"B matrix is\\n{B}\")\n",
    "    print(f\"A + B is\\n{A+B}\")\n",
    "    print(f\"A - B is\\n{A-B}\")\n",
    "    return\n",
    "\n",
    "add_subtract()"
   ]
  },
  {
   "cell_type": "code",
   "execution_count": null,
   "id": "28bc2d48",
   "metadata": {},
   "outputs": [],
   "source": []
  }
 ],
 "metadata": {
  "kernelspec": {
   "display_name": "Python 3",
   "language": "python",
   "name": "python3"
  },
  "language_info": {
   "codemirror_mode": {
    "name": "ipython",
    "version": 3
   },
   "file_extension": ".py",
   "mimetype": "text/x-python",
   "name": "python",
   "nbconvert_exporter": "python",
   "pygments_lexer": "ipython3",
   "version": "3.8.8"
  }
 },
 "nbformat": 4,
 "nbformat_minor": 5
}
