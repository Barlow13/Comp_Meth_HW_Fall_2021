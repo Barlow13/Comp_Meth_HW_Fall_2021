{
 "cells": [
  {
   "cell_type": "markdown",
   "id": "edc1dadd",
   "metadata": {},
   "source": [
    "### 3. Write a function my_triangle(b,h) where the output is the area of a triangle with base, b, and height, h."
   ]
  },
  {
   "cell_type": "code",
   "execution_count": 1,
   "id": "d6761fc7",
   "metadata": {
    "scrolled": false
   },
   "outputs": [
    {
     "name": "stdout",
     "output_type": "stream",
     "text": [
      "Test case 1:\t0.5\n",
      "Test case 2:\t1.0\n",
      "Test case 3:\t30.0\n"
     ]
    }
   ],
   "source": [
    "def my_triangle(b,h):\n",
    "    return ((b/2)*h)\n",
    "\n",
    "print(f\"Test case 1:\\t{my_triangle(1,1)}\\nTest case 2:\\t{my_triangle(2,1)}\\nTest case 3:\\t{my_triangle(12,5)}\")\n",
    "\n",
    "    "
   ]
  },
  {
   "cell_type": "markdown",
   "id": "d67279f0",
   "metadata": {},
   "source": [
    "### 5. Write a my_cylinder(r,h), where r and h are the radius and height of a cylinder, respectively, and the output is a list [s, v] where s and v are the surface are and volume of the same cylinder, respectively."
   ]
  },
  {
   "cell_type": "code",
   "execution_count": 3,
   "id": "7f93a5eb",
   "metadata": {},
   "outputs": [
    {
     "name": "stdout",
     "output_type": "stream",
     "text": [
      "Test case 1:\t[37.6991, 15.708]\n",
      "Test case 2:\t[75.3982, 50.2655]\n"
     ]
    }
   ],
   "source": [
    "import math\n",
    "def my_cylinder(r,h):\n",
    "    s = (2*math.pi*(r**2))+(2*math.pi*r*h)\n",
    "    v = math.pi*(r**2)*h\n",
    "    List = [round(s,4), round(v,4)]\n",
    "    return(List)\n",
    "\n",
    "print(f\"Test case 1:\\t{my_cylinder(1,5)}\\nTest case 2:\\t{my_cylinder(2,4)}\")\n"
   ]
  },
  {
   "cell_type": "markdown",
   "id": "b3ed4cc5",
   "metadata": {},
   "source": [
    "### 7. Write a function my_twos(m,n) where the output is an m x n array of twos. Assume that m and n are strictly positive intergers."
   ]
  },
  {
   "cell_type": "code",
   "execution_count": 5,
   "id": "bc41ce7d",
   "metadata": {},
   "outputs": [
    {
     "name": "stdout",
     "output_type": "stream",
     "text": [
      "Test case 1:\n",
      "[[2 2]\n",
      " [2 2]\n",
      " [2 2]]\n",
      "Test case 2:\n",
      "[[2 2 2 2]]\n"
     ]
    }
   ],
   "source": [
    "import numpy\n",
    "\n",
    "def my_twos(m,n):\n",
    "    array = numpy.empty((m,n),int)\n",
    "    array.fill(2)\n",
    "    return(array)\n",
    "    \n",
    "print(f\"Test case 1:\\n{my_twos(3,2)}\\nTest case 2:\\n{my_twos(1,4)}\")\n"
   ]
  },
  {
   "cell_type": "markdown",
   "id": "86bef2bb",
   "metadata": {},
   "source": [
    "### 8. Write a lambda function that takes in input x and y, and the outputs is the value of x-y"
   ]
  },
  {
   "cell_type": "code",
   "execution_count": 16,
   "id": "70459824",
   "metadata": {},
   "outputs": [
    {
     "name": "stdout",
     "output_type": "stream",
     "text": [
      "Enter x value: 50\n",
      "Enter y value: 49\n",
      "1\n"
     ]
    }
   ],
   "source": [
    "sub = lambda x,y:x-y\n",
    "x = int(input(\"Enter x value: \"))\n",
    "y = int(input(\"Enter y value: \"))\n",
    "print(sub(x,y))\n",
    "    "
   ]
  },
  {
   "cell_type": "markdown",
   "id": "d7eb7b8f",
   "metadata": {},
   "source": [
    "### 9. Write a function add_strings(s1, s2) where the output is the concatenation of the strings s1 and s2."
   ]
  },
  {
   "cell_type": "code",
   "execution_count": 18,
   "id": "e9f94b64",
   "metadata": {},
   "outputs": [
    {
     "name": "stdout",
     "output_type": "stream",
     "text": [
      "\"Programming  is fun!\"\n"
     ]
    }
   ],
   "source": [
    "def add_strings(s1,s2):\n",
    "    s3 = s1+s2\n",
    "    return(s3)\n",
    "s1 = add_strings(\"Programming \",\" \")\n",
    "s2 = add_strings(\"is \",\"fun!\")\n",
    "print(f\"\\\"{add_strings(s1,s2)}\\\"\")"
   ]
  },
  {
   "cell_type": "markdown",
   "id": "4aa8f5af",
   "metadata": {},
   "source": [
    "### 12. Let r1 and r2 be the radius of circles with the same center and let r2 > r1. Write a function my_donut_area(r1,r2) where the output is the area outside of the circle with radius r1 and inside the circle with radius r2. Make sure that the function is vectorized. Assume that r1 and r2 are one-D arrays of the same size."
   ]
  },
  {
   "cell_type": "code",
   "execution_count": 28,
   "id": "7d7e77ec",
   "metadata": {},
   "outputs": [
    {
     "name": "stdout",
     "output_type": "stream",
     "text": [
      "[ 9.4248 37.6991 84.823 ]\n"
     ]
    }
   ],
   "source": [
    "import numpy\n",
    "import math\n",
    "\n",
    "def my_donut_area(r1, r2):\n",
    "    area = math.pi*(r2**2-r1**2)\n",
    "    return(numpy.round(area,4))\n",
    "\n",
    "print(my_donut_area(numpy.arange(1,4), numpy.arange(2,7,2)))"
   ]
  },
  {
   "cell_type": "markdown",
   "id": "0a8bf8f8",
   "metadata": {},
   "source": [
    "### 13. Write a function my_within_tolerance(A, a, tol) where the output is an array or list of the indices in A such that |A-a|< tol. Assume that A is a one-dimensional float list or array, and that a and tol are 1 by floats."
   ]
  },
  {
   "cell_type": "code",
   "execution_count": 60,
   "id": "4e1f9f1f",
   "metadata": {},
   "outputs": [
    {
     "name": "stdout",
     "output_type": "stream",
     "text": [
      "Test case 1:\n",
      "[1, 2]\n",
      "Test case 2:\n",
      "[]\n"
     ]
    }
   ],
   "source": [
    "def my_within_tolerance(A, a, tol):\n",
    "    out = []\n",
    "    for i in A:\n",
    "        if abs(i-a) < tol:\n",
    "            out.append(i)\n",
    "    return out\n",
    "print(f\"Test case 1:\\n{my_within_tolerance([0, 1, 2, 3], 1.5, 0.75)}\\nTest case 2:\\n{my_within_tolerance((0, 1.01, 0.01), 0.5, 0.03)}\")\n",
    "        "
   ]
  },
  {
   "cell_type": "code",
   "execution_count": null,
   "id": "d33a6abd",
   "metadata": {},
   "outputs": [],
   "source": []
  }
 ],
 "metadata": {
  "kernelspec": {
   "display_name": "Python 3",
   "language": "python",
   "name": "python3"
  },
  "language_info": {
   "codemirror_mode": {
    "name": "ipython",
    "version": 3
   },
   "file_extension": ".py",
   "mimetype": "text/x-python",
   "name": "python",
   "nbconvert_exporter": "python",
   "pygments_lexer": "ipython3",
   "version": "3.8.8"
  }
 },
 "nbformat": 4,
 "nbformat_minor": 5
}
