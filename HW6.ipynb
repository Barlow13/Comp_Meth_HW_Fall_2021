{
 "cells": [
  {
   "cell_type": "markdown",
   "id": "a8588983",
   "metadata": {},
   "source": [
    "### 19.1M Write a function my_nth_root(x,n,tol) where x and tol are strictly positive scalars, and n is an integer strictly greaterr than 1. The output argument, r, should be an approximation r =nsqrt(x), the Nth root of x. This approximation should be computed by using the Newton-Raphson method to find the root of the function f(y)=y^N - x. The error metric should be < 10^7."
   ]
  },
  {
   "cell_type": "code",
   "execution_count": 1,
   "id": "5cbf130f",
   "metadata": {},
   "outputs": [
    {
     "name": "stdout",
     "output_type": "stream",
     "text": [
      "Enter a x value 64\n",
      "Enter a y value 3\n",
      "Enter tol value 7\n",
      "4.0\n"
     ]
    }
   ],
   "source": [
    "from math import *\n",
    "\n",
    "\n",
    "def my_nth_root(x, n, tol):\n",
    "    f = lambda y: y ** n - x\n",
    "    fprime = lambda y: n * (y ** (n - 1))\n",
    "    xi = x\n",
    "    if tol > 7:\n",
    "        tol = 7\n",
    "    err_stop = 1 * (10 ** -tol)\n",
    "    root_data = [xi]\n",
    "    rel_err = 1.1 * err_stop\n",
    "    max_iter = 200\n",
    "    for i in range(0, max_iter):\n",
    "        xi_plus_1 = xi - f(xi) / fprime(xi)\n",
    "        root_data.append(xi_plus_1)\n",
    "        rel_err = abs((xi_plus_1 - xi) / xi_plus_1)\n",
    "        if rel_err <= err_stop:\n",
    "            break\n",
    "        xi = xi_plus_1\n",
    "    print(root_data[len(root_data) - 1])\n",
    "\n",
    "if __name__ == '__main__':\n",
    "    x = float(input(\"Enter a x value \"))\n",
    "    n = float(input(\"Enter a y value \"))\n",
    "    tol = int(input(\"Enter tol value \"))\n",
    "    my_nth_root(x, n, tol)"
   ]
  },
  {
   "cell_type": "markdown",
   "id": "80dd2c6a",
   "metadata": {},
   "source": [
    "### 19.2M Write a function my_fixed_point(f,g,tol,max_iter) where f and g are function objects, and tol and max_iter are strictly positive scalars. The input argument, max_iter, is also an intger. The output argument, X, should be a scalar satisfying if(x)-g(X)<tol,that is, X is a point that (almost) satisfies f(x) = g(x). To find X, you should use the bisection method with the error metric, |F(m)|<tol. The function my_fixed_point should give up after max_iter numbers of iterations and return x = [] if this occurs."
   ]
  },
  {
   "cell_type": "code",
   "execution_count": 2,
   "id": "5e34c604",
   "metadata": {},
   "outputs": [
    {
     "name": "stdout",
     "output_type": "stream",
     "text": [
      "Enter tol value 7\n",
      "Enter max_iter value 5\n"
     ]
    },
    {
     "data": {
      "image/png": "[encoded data removed]",
      "text/plain": [
       "<Figure size 432x288 with 1 Axes>"
      ]
     },
     "metadata": {
      "needs_background": "light"
     },
     "output_type": "display_data"
    }
   ],
   "source": [
    "import numpy as np\n",
    "import sympy\n",
    "from math import *\n",
    "\n",
    "from psm_plot import FunctionRootPlot111\n",
    "\n",
    "\n",
    "def g_string():\n",
    "    fn_string = \"5/(exp(0.5*x)+1.2)\"\n",
    "    return fn_string\n",
    "\n",
    "\n",
    "def f_string():\n",
    "    fn_string = \"x*exp(0.5*x)+1.2*x -5\"\n",
    "    return fn_string\n",
    "\n",
    "\n",
    "def f(x):\n",
    "    string = f_string()\n",
    "    tmp = eval(string)\n",
    "    return tmp\n",
    "\n",
    "\n",
    "def g(x):\n",
    "    string = g_string()\n",
    "    tmp = eval(string)\n",
    "    return tmp\n",
    "\n",
    "\n",
    "def my_fixed_point(f, g, tol, max_iter):\n",
    "    xold = 1.0\n",
    "    root_approx = [xold]\n",
    "    if tol > 7:\n",
    "        tol = 7\n",
    "    err_stop = 1 * (10 ** -tol)\n",
    "    rel_err = 1.1 * err_stop\n",
    "    count = 0\n",
    "    table = [[\"i\", \"root approx.\", \"rel. error\"]]\n",
    "    for i in range(0, max_iter):\n",
    "        count += 1\n",
    "        tmp = g(xold)\n",
    "        xnew = tmp\n",
    "        root_approx.append(xnew)\n",
    "        if count > 1:\n",
    "            rel_err = abs((xnew - xold) / xnew)\n",
    "            table.append([i + 1, xnew, f\"{rel_err:.2e}\"])\n",
    "            if rel_err <= err_stop:\n",
    "                break\n",
    "        else:\n",
    "            table.append([i + 1, xnew, \"NA\"])\n",
    "        xold = xnew\n",
    "    x_start = 1\n",
    "    x_end = 2.5\n",
    "    x = np.linspace(x_start, x_end, 100)\n",
    "    function_name = f_string()\n",
    "    function_syms = sympy.latex(sympy.sympify(function_name))\n",
    "    title_base = \"Plot of \" + \"$\" + function_syms + \"$\"\n",
    "    title = title_base\n",
    "    filename = \"fixed_point.png\"\n",
    "    xlabel = \"x\"\n",
    "    ylabel = \"f(x)\"\n",
    "    root_data_label = \"root approximations\"\n",
    "    y_func_label = function_name\n",
    "    FunctionRootPlot111(x, xlabel, f, ylabel, root_approx, root_data_label, title, filename)\n",
    "\n",
    "\n",
    "if __name__ == '__main__':\n",
    "    tol = int(input(\"Enter tol value \"))\n",
    "    max_iter = int(input(\"Enter max_iter value \"))\n",
    "    my_fixed_point(f, g, tol, max_iter)\n"
   ]
  },
  {
   "cell_type": "markdown",
   "id": "c9dced05",
   "metadata": {},
   "source": [
    "### 19.5M write a function my_newton(f,df,x0,tol) that returns [R,E], where f is a function object, df is a function object giving the derivative of f, x0 is an initial estimation of the root, and tol is a strictly positie scalar. The function should return an array, R, where R[i] is the Newton-Raphson estimate of the root of f for the ith iteration. Remember to include the initial estimate. The function should also return an array,E, where E[i] is the value of |f(R[i])| for the ith iteration of the newton-raphson method. The function should terminate when E(i) < tol. Assume that the derivative of f will not hit zero during any iteration for any of the test cases given."
   ]
  },
  {
   "cell_type": "code",
   "execution_count": 3,
   "id": "d55c5dd6",
   "metadata": {},
   "outputs": [
    {
     "name": "stdout",
     "output_type": "stream",
     "text": [
      "R = [1, 1.5, 1.4166666666666667, 1.4142156862745099]\n",
      "E = [1, 0.25, 0.006944444444444642, 6.007304882871267e-06]\n",
      "\n",
      "R = [1, 0.782041901539138, 0.7853981759997019]\n",
      "E = [0.30116867893975674, 0.004746462127804163, 1.7822277875723103e-08]\n",
      "\n"
     ]
    }
   ],
   "source": [
    "from math import *\n",
    "from tabulate import tabulate\n",
    "import numpy as np\n",
    "\n",
    "\n",
    "def my_newton(f, df, x0, tol):\n",
    "    xi = x0\n",
    "    table = []\n",
    "    if tol < 1e-7:\n",
    "        tol = 1e-7\n",
    "    err_stop = tol\n",
    "    root_data = [xi]\n",
    "    edata = []\n",
    "    rel_err = 1.1 * err_stop\n",
    "    max_iter = 200\n",
    "    for i in range(0, max_iter):\n",
    "        xi_plus_1 = xi - f(xi) / df(xi)\n",
    "        root_data.append(xi_plus_1)\n",
    "        edata.append(abs(f(root_data[i])))\n",
    "        rel_err = abs((xi_plus_1 - xi) / xi_plus_1)\n",
    "        if rel_err <= err_stop:\n",
    "            break\n",
    "        xi = xi_plus_1\n",
    "    root_data.pop(len(root_data) - 1)\n",
    "    print(f\"R = {root_data}\")\n",
    "    print(f\"E = {edata}\\n\")\n",
    "\n",
    "\n",
    "if __name__ == '__main__':\n",
    "    f = lambda x: x ** 2 - 2\n",
    "    df = lambda x: 2 * x\n",
    "    my_newton(f, df, 1, 1e-5)\n",
    "    f = lambda x: np.sin(x) - np.cos(x)\n",
    "    df = lambda x: np.cos(x) + np.sin(x)\n",
    "    my_newton(f, df, 1, 1e-5)"
   ]
  },
  {
   "cell_type": "markdown",
   "id": "666ef137",
   "metadata": {},
   "source": [
    "### SP1"
   ]
  },
  {
   "cell_type": "code",
   "execution_count": 4,
   "id": "cdfba188",
   "metadata": {},
   "outputs": [
    {
     "data": {
      "image/png": "[encoded data removed]",
      "text/plain": [
       "<Figure size 432x288 with 1 Axes>"
      ]
     },
     "metadata": {
      "needs_background": "light"
     },
     "output_type": "display_data"
    },
    {
     "name": "stdout",
     "output_type": "stream",
     "text": [
      "Root =  3.6022583587048023\n"
     ]
    }
   ],
   "source": [
    "from math import *\n",
    "import numpy as np\n",
    "import sympy\n",
    "from psm_plot import *\n",
    "\n",
    "\n",
    "def f_string():\n",
    "    fn_string = '(1.2*x**3) + (2*x**2) -(20*x) - 10'\n",
    "    return fn_string\n",
    "\n",
    "\n",
    "def f(x):\n",
    "    string = f_string()\n",
    "    tmp = eval(string)\n",
    "    return tmp\n",
    "\n",
    "\n",
    "def main():\n",
    "    a = -4.0\n",
    "    b = -5.0\n",
    "    x_start = a\n",
    "    x_end = b\n",
    "    xi = 4.0\n",
    "    err_stop = 1e-7\n",
    "    root_data = [xi]\n",
    "    rel_err = 1.1 * err_stop\n",
    "    max_iter = 200\n",
    "    for i in range(0, max_iter):\n",
    "        xi_plus_1 = xi - ((f(xi) * ((xi - 1) - xi)) / (f(xi - 1) - f(xi)))\n",
    "        root_data.append(xi_plus_1)\n",
    "        rel_err = abs((xi_plus_1 - xi) / xi_plus_1)\n",
    "        if rel_err <= err_stop:\n",
    "            break\n",
    "        xi = xi_plus_1\n",
    "    x = np.linspace(x_start, x_end, 100)\n",
    "\n",
    "    function_name = f_string()\n",
    "    function_syms = sympy.latex(sympy.sympify(function_name))\n",
    "    title_base = \"Plot of \" + \"$\" + function_syms + \"$\"\n",
    "    title = title_base\n",
    "    filename = \"single_iteration_of_newton_raphson.png\"\n",
    "    xlabel = \"x\"\n",
    "    ylabel = \"f(x)\"\n",
    "    root_data_label = \"root approximations\"\n",
    "    y_func_label = function_name\n",
    "    FunctionRootPlot111_newton_raphson(x, xlabel, f, ylabel, root_data, root_data_label, title, filename, 1)\n",
    "    print(\"Root = \",root_data[len(root_data) - 1])\n",
    "\n",
    "\n",
    "if __name__ == '__main__':\n",
    "    main()\n"
   ]
  },
  {
   "cell_type": "markdown",
   "id": "c7128bee",
   "metadata": {},
   "source": [
    "### SP2"
   ]
  },
  {
   "cell_type": "code",
   "execution_count": 5,
   "id": "065111ca",
   "metadata": {
    "scrolled": true
   },
   "outputs": [
    {
     "name": "stdout",
     "output_type": "stream",
     "text": [
      "[1, -0.7182818284590451, 0.06019705656414598, -2.051174752167541, 11.49336983101289]\n"
     ]
    },
    {
     "data": {
      "image/png": "[encoded data removed]",
      "text/plain": [
       "<Figure size 432x288 with 1 Axes>"
      ]
     },
     "metadata": {
      "needs_background": "light"
     },
     "output_type": "display_data"
    }
   ],
   "source": [
    "from math import *\n",
    "import numpy as np\n",
    "import sympy\n",
    "from psm_plot import *\n",
    "\n",
    "\n",
    "def g_string():\n",
    "    fn_string = \"(3*x**2)-1-e**x\"\n",
    "    return fn_string\n",
    "\n",
    "def g(x):\n",
    "    string = g_string()\n",
    "    tmp = eval(string)\n",
    "    return tmp\n",
    "\n",
    "def f_string():\n",
    "    fn_string = \"(x**3)-(x)-(e**x)-(2)\"\n",
    "    return fn_string\n",
    "\n",
    "\n",
    "def f(x):\n",
    "    string = f_string()\n",
    "    tmp = eval(string)\n",
    "    return tmp\n",
    "\n",
    "\n",
    "def my_fixed_point(g):\n",
    "    xold = 1\n",
    "    root_approx = [xold]\n",
    "    err_stop = 1e-7\n",
    "    rel_err = 1.1 * err_stop\n",
    "    count = 0\n",
    "    max_iter = 4\n",
    "    tol = 7.0\n",
    "    for i in range(0, max_iter):\n",
    "        count += 1\n",
    "        tmp = g(xold)\n",
    "        xnew = tmp\n",
    "        root_approx.append(xnew)\n",
    "        if count > 1:\n",
    "            rel_err = abs((xnew - xold) / xnew)\n",
    "            if rel_err <= err_stop:\n",
    "                break\n",
    "        xold = xnew\n",
    "    print(root_approx)\n",
    "    x_start = 2\n",
    "    x_end = 3\n",
    "    x = np.linspace(x_start, x_end, 100)\n",
    "    function_name = f_string()\n",
    "    function_syms = sympy.latex(sympy.sympify(function_name))\n",
    "    title_base = \"Plot of \" + \"$\" + function_syms + \"$\"\n",
    "    title = title_base\n",
    "    filename = \"fixed_pointG.png\"\n",
    "    xlabel = \"x\"\n",
    "    ylabel = \"f(x)\"\n",
    "    root_data_label = \"root approximations\"\n",
    "    y_func_label = function_name\n",
    "    FunctionRootPlot111(x, xlabel, f, ylabel, root_approx, root_data_label, title, filename)\n",
    "\n",
    "\n",
    "if __name__ == '__main__':\n",
    "    my_fixed_point(g)\n"
   ]
  },
  {
   "cell_type": "markdown",
   "id": "d2f06014",
   "metadata": {},
   "source": [
    "### SP3"
   ]
  },
  {
   "cell_type": "code",
   "execution_count": 6,
   "id": "a3a34639",
   "metadata": {},
   "outputs": [
    {
     "data": {
      "image/png": "[encoded data removed]",
      "text/plain": [
       "<Figure size 432x288 with 1 Axes>"
      ]
     },
     "metadata": {
      "needs_background": "light"
     },
     "output_type": "display_data"
    },
    {
     "name": "stdout",
     "output_type": "stream",
     "text": [
      "Root =  0.8526055282943936\n"
     ]
    }
   ],
   "source": [
    "from math import *\n",
    "import numpy as np\n",
    "import sympy\n",
    "\n",
    "from psm_plot import *\n",
    "\n",
    "\n",
    "def f_string():\n",
    "    fn_string = 'x-(2*e**-x)'\n",
    "    return fn_string\n",
    "\n",
    "\n",
    "def f(x):\n",
    "    string = f_string()\n",
    "    tmp = eval(string)\n",
    "    return tmp\n",
    "\n",
    "\n",
    "def main():\n",
    "    a = 0\n",
    "    b = 1\n",
    "    x_start = a\n",
    "    x_end = b\n",
    "    xi = 1\n",
    "    err_stop = 1e-7\n",
    "    root_data = [xi]\n",
    "    rel_err = 1.1 * err_stop\n",
    "    max_iter = 200\n",
    "    for i in range(0, max_iter):\n",
    "        xi_plus_1 = xi - ((f(xi) * ((xi - 1) - xi)) / (f(xi - 1) - f(xi)))\n",
    "        root_data.append(xi_plus_1)\n",
    "        rel_err = abs((xi_plus_1 - xi) / xi_plus_1)\n",
    "        if rel_err <= err_stop:\n",
    "            break\n",
    "        xi = xi_plus_1\n",
    "    x = np.linspace(x_start, x_end, 100)\n",
    "\n",
    "    function_name = f_string()\n",
    "    function_syms = sympy.latex(sympy.sympify(function_name))\n",
    "    title_base = \"Plot of \" + \"$\" + function_syms + \"$\"\n",
    "    title = title_base\n",
    "    filename = \"single_iteration_of_newton_raphson.png\"\n",
    "    xlabel = \"x\"\n",
    "    ylabel = \"f(x)\"\n",
    "    root_data_label = \"root approximations\"\n",
    "    y_func_label = function_name\n",
    "    FunctionRootPlot111_newton_raphson(x, xlabel, f, ylabel, root_data, root_data_label, title, filename, 1)\n",
    "    print(\"Root = \",root_data[len(root_data) - 1])\n",
    "\n",
    "\n",
    "if __name__ == '__main__':\n",
    "    main()\n"
   ]
  },
  {
   "cell_type": "markdown",
   "id": "44959286",
   "metadata": {},
   "source": [
    "### SP4"
   ]
  },
  {
   "cell_type": "code",
   "execution_count": 7,
   "id": "204e0d48",
   "metadata": {},
   "outputs": [
    {
     "name": "stdout",
     "output_type": "stream",
     "text": [
      "[1, 0.33333333333333326, -2.800139705086507]\n"
     ]
    },
    {
     "data": {
      "image/png": "[encoded data removed]",
      "text/plain": [
       "<Figure size 432x288 with 1 Axes>"
      ]
     },
     "metadata": {
      "needs_background": "light"
     },
     "output_type": "display_data"
    }
   ],
   "source": [
    "from math import *\n",
    "import numpy as np\n",
    "import sympy\n",
    "from psm_plot import *\n",
    "\n",
    "\n",
    "def g_string():\n",
    "    fn_string = \"(2*x)-(5/(3*x**(2/3)))\"\n",
    "    return fn_string\n",
    "\n",
    "def g(x):\n",
    "    string = g_string()\n",
    "    tmp = eval(string)\n",
    "    return tmp\n",
    "\n",
    "def f_string():\n",
    "    fn_string = \"(x**2) - (5*x**(1/3)) + 1\"\n",
    "    return fn_string\n",
    "\n",
    "\n",
    "def f(x):\n",
    "    string = f_string()\n",
    "    tmp = eval(string)\n",
    "    return tmp\n",
    "\n",
    "\n",
    "def my_fixed_point(g):\n",
    "    xold = 1\n",
    "    root_approx = [xold]\n",
    "    err_stop = 1e-7\n",
    "    rel_err = 1.1 * err_stop\n",
    "    count = 0\n",
    "    max_iter = 2\n",
    "    tol = 7.0\n",
    "    for i in range(0, max_iter):\n",
    "        count += 1\n",
    "        tmp = g(xold)\n",
    "        xnew = tmp\n",
    "        root_approx.append(xnew)\n",
    "        if count > 1:\n",
    "            rel_err = abs((xnew - xold) / xnew)\n",
    "            if rel_err <= err_stop:\n",
    "                break\n",
    "        xold = xnew\n",
    "    print(root_approx)\n",
    "    x_start = 2\n",
    "    x_end = 3\n",
    "    x = np.linspace(x_start, x_end, 100)\n",
    "    function_name = f_string()\n",
    "    function_syms = sympy.latex(sympy.sympify(function_name))\n",
    "    title_base = \"Plot of \" + \"$\" + function_syms + \"$\"\n",
    "    title = title_base\n",
    "    filename = \"fixed_pointG.png\"\n",
    "    xlabel = \"x\"\n",
    "    ylabel = \"f(x)\"\n",
    "    root_data_label = \"root approximations\"\n",
    "    y_func_label = function_name\n",
    "    FunctionRootPlot111(x, xlabel, f, ylabel, root_approx, root_data_label, title, filename)\n",
    "\n",
    "\n",
    "if __name__ == '__main__':\n",
    "    my_fixed_point(g)\n"
   ]
  },
  {
   "cell_type": "code",
   "execution_count": null,
   "id": "aa11b865",
   "metadata": {},
   "outputs": [],
   "source": []
  }
 ],
 "metadata": {
  "kernelspec": {
   "display_name": "Python 3",
   "language": "python",
   "name": "python3"
  },
  "language_info": {
   "codemirror_mode": {
    "name": "ipython",
    "version": 3
   },
   "file_extension": ".py",
   "mimetype": "text/x-python",
   "name": "python",
   "nbconvert_exporter": "python",
   "pygments_lexer": "ipython3",
   "version": "3.8.8"
  }
 },
 "nbformat": 4,
 "nbformat_minor": 5
}
