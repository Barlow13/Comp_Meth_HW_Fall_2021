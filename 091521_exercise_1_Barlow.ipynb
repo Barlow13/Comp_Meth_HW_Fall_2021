{
 "cells": [
  {
   "cell_type": "markdown",
   "metadata": {},
   "source": [
    "# 5. Compute the area of a triangle with base 10 and height 12."
   ]
  },
  {
   "cell_type": "code",
   "execution_count": 1,
   "metadata": {},
   "outputs": [
    {
     "name": "stdout",
     "output_type": "stream",
     "text": [
      "Area of a Triangle:\t 60.0\n"
     ]
    }
   ],
   "source": [
    "#Problem 5\n",
    "#Area of a Triangle\n",
    "\n",
    "Triangle = (10/2)*12\n",
    "\n",
    "print('Area of a Triangle:\\t',Triangle)"
   ]
  },
  {
   "cell_type": "markdown",
   "metadata": {},
   "source": [
    "# 6. Compute the surface area and volume of a cylinder with radius 5 and height 3."
   ]
  },
  {
   "cell_type": "code",
   "execution_count": 2,
   "metadata": {},
   "outputs": [
    {
     "name": "stdout",
     "output_type": "stream",
     "text": [
      "SurfaceArea:\t 251.32741228718345\n",
      "Volume:\t\t 235.61944901923448\n"
     ]
    }
   ],
   "source": [
    "#Problem 6\n",
    "#Surface Area and Volume of a Cylinder\n",
    "\n",
    "import math\n",
    "\n",
    "radius = 5\n",
    "height = 3\n",
    "\n",
    "SurfaceArea = (2*math.pi*radius*height)+(2*math.pi*(radius**2))\n",
    "Volume = (math.pi*(radius**2)*height)\n",
    "\n",
    "print('SurfaceArea:\\t',SurfaceArea)\n",
    "print('Volume:\\t\\t',Volume)"
   ]
  },
  {
   "cell_type": "markdown",
   "metadata": {},
   "source": [
    "# 7. Compute the slope between the points (3,4) and (5,9)."
   ]
  },
  {
   "cell_type": "code",
   "execution_count": 3,
   "metadata": {},
   "outputs": [
    {
     "name": "stdout",
     "output_type": "stream",
     "text": [
      "Slope:\t 2.5\n"
     ]
    }
   ],
   "source": [
    "#Problem 7\n",
    "#Slope of 2 points\n",
    "\n",
    "x1 = 3\n",
    "y1 = 4\n",
    "x2 = 5\n",
    "y2 = 9\n",
    "\n",
    "Slope = (y2-y1)/(x2-x1)\n",
    "\n",
    "print('Slope:\\t',Slope)"
   ]
  },
  {
   "cell_type": "markdown",
   "metadata": {},
   "source": [
    "# 8. Compute the distance between the points (3,4) and (5,9)"
   ]
  },
  {
   "cell_type": "code",
   "execution_count": 4,
   "metadata": {},
   "outputs": [
    {
     "name": "stdout",
     "output_type": "stream",
     "text": [
      "Distance:\t 5.385164807134504\n"
     ]
    }
   ],
   "source": [
    "#Problem 8\n",
    "#Distance between points\n",
    "\n",
    "import math\n",
    "\n",
    "x1 = 3\n",
    "y1 = 4\n",
    "x2 = 5\n",
    "y2 = 9\n",
    "\n",
    "Distance = math.sqrt(((x2-x1)**2)+((y2-y1)**2))\n",
    "\n",
    "print('Distance:\\t',Distance)"
   ]
  },
  {
   "cell_type": "markdown",
   "metadata": {},
   "source": [
    "# 9. Use Python's factorial function to compute 6!."
   ]
  },
  {
   "cell_type": "code",
   "execution_count": 5,
   "metadata": {},
   "outputs": [
    {
     "name": "stdout",
     "output_type": "stream",
     "text": [
      "6!:\t 720\n"
     ]
    }
   ],
   "source": [
    "#Problem 9\n",
    "# Factorial to compute 6\n",
    "\n",
    "import math\n",
    "\n",
    "print('6!:\\t',math.factorial(6))"
   ]
  },
  {
   "cell_type": "markdown",
   "metadata": {},
   "source": [
    "# 10. Compute the number of leap years between the years 1500 and 2010."
   ]
  },
  {
   "cell_type": "code",
   "execution_count": 6,
   "metadata": {},
   "outputs": [
    {
     "name": "stdout",
     "output_type": "stream",
     "text": [
      "LeapYears from 1500 to 2010:\t 122\n"
     ]
    }
   ],
   "source": [
    "#Problem 10\n",
    "# Leap years from 1500 to 2010\n",
    "\n",
    "import math\n",
    "\n",
    "x = 1500\n",
    "y = 2010\n",
    "LeapYear = 0\n",
    "\n",
    "for i in range(x,y):\n",
    "    x = x + 1\n",
    "    if((x % 4 == 0) and (x % 100 != 0) and (x % 400 != 0)):\n",
    "        LeapYear += 1\n",
    "print('LeapYears from 1500 to 2010:\\t',LeapYear)\n",
    "    \n",
    "    \n"
   ]
  },
  {
   "cell_type": "markdown",
   "metadata": {},
   "source": [
    "# 11. Use Ramanujan's formula for N=0 and N=1 to approximate PI."
   ]
  },
  {
   "cell_type": "code",
   "execution_count": 7,
   "metadata": {},
   "outputs": [
    {
     "name": "stdout",
     "output_type": "stream",
     "text": [
      "Ramanujans formula pi:\t 3.1415927300133055\n",
      "Pythons pi:\t\t 3.141592653589793\n"
     ]
    }
   ],
   "source": [
    "#Problem 11\n",
    "#Ramanujan's formula\n",
    "\n",
    "from math import *\n",
    "\n",
    "N = 0\n",
    "K = 0\n",
    "CalcPi = 0\n",
    "\n",
    "for i in range(N,1):\n",
    "    CalcPi = (math.factorial(4*K)*(1103+26390*K))/((math.factorial(K)**4)*(396**(4*K)))\n",
    "    K += 1\n",
    "\n",
    "FinalPi = CalcPi * ((2 * math.sqrt(2)) / 9801)\n",
    "print('Ramanujans formula pi:\\t', 1/FinalPi)\n",
    "print('Pythons pi:\\t\\t',math.pi)\n",
    "    "
   ]
  },
  {
   "cell_type": "markdown",
   "metadata": {},
   "source": [
    "# 12. Compute sinh for x=2 using exponentials."
   ]
  },
  {
   "cell_type": "code",
   "execution_count": 8,
   "metadata": {},
   "outputs": [
    {
     "name": "stdout",
     "output_type": "stream",
     "text": [
      "Computed Sinh(x):\t 3.626860407847019\n",
      "Pythons Sinh(x):\t 3.6268604078470186\n"
     ]
    }
   ],
   "source": [
    "#Problem 12\n",
    "# Computing sinh\n",
    "\n",
    "from math import *\n",
    "\n",
    "x = 2\n",
    "\n",
    "sinh = (math.exp(x)-math.exp(-x))/2\n",
    "\n",
    "print('Computed Sinh(x):\\t', sinh)\n",
    "print('Pythons Sinh(x):\\t',math.sinh(x))"
   ]
  },
  {
   "cell_type": "markdown",
   "metadata": {},
   "source": [
    "# 13. Verifying sin^2(x) + cos^2(x) = 1 for differnet values."
   ]
  },
  {
   "cell_type": "code",
   "execution_count": 9,
   "metadata": {},
   "outputs": [
    {
     "name": "stdout",
     "output_type": "stream",
     "text": [
      "for x =  3.141592653589793 \tsin^2(pi) + cos^2(pi):\t\t 1.0\n",
      "for x =  1.5707963267948966 \tsin^2(pi/ 2 ) + cos^2(pi/ 2 ):\t 1.0\n",
      "for x =  0.7853981633974483 \tsin^2(pi/ 4 ) + cos^2(pi/ 4 ):\t 1.0000000000000002\n",
      "for x =  0.39269908169872414 \tsin^2(pi/ 6 ) + cos^2(pi/ 6 ):\t 1.0\n"
     ]
    }
   ],
   "source": [
    "#Problem 13\n",
    "# Verifying sin^2(x) + cos^2(x) = 1 for differnet values\n",
    "\n",
    "from math import *\n",
    "\n",
    "x = math.pi\n",
    "y = 0\n",
    "\n",
    "for i in range (0,4):\n",
    "    if i == 0:\n",
    "        print('for x = ',x,'\\tsin^2(pi) + cos^2(pi):\\t\\t',(math.sin(x)**2)+(math.cos(x)**2))\n",
    "        x = x/2\n",
    "        y += 2\n",
    "    else:\n",
    "        print('for x = ',x,'\\tsin^2(pi/',y,') + cos^2(pi/',y,'):\\t',(math.sin(x)**2)+(math.cos(x)**2))\n",
    "        x = x/2\n",
    "        y += 2"
   ]
  },
  {
   "cell_type": "markdown",
   "metadata": {},
   "source": [
    "# 14. Compute the sin(87 Degrees)."
   ]
  },
  {
   "cell_type": "code",
   "execution_count": 10,
   "metadata": {},
   "outputs": [
    {
     "name": "stdout",
     "output_type": "stream",
     "text": [
      "Sin(87 Degrees):\t 0.9986295347545738\n"
     ]
    }
   ],
   "source": [
    "#Problem 14\n",
    "# Compute Sin(87 Degrees)\n",
    "\n",
    "from math import *\n",
    "\n",
    "print('Sin(87 Degrees):\\t',math.sin(math.radians(87)))"
   ]
  },
  {
   "cell_type": "markdown",
   "metadata": {},
   "source": [
    "# 23M. Do the calculation for #23 on page 61 from the book."
   ]
  },
  {
   "cell_type": "code",
   "execution_count": 11,
   "metadata": {},
   "outputs": [
    {
     "name": "stdout",
     "output_type": "stream",
     "text": [
      "Computation:\t -125.12206803207424\n"
     ]
    }
   ],
   "source": [
    "#Pronlem 23\n",
    "# Computation\n",
    "\n",
    "from math import *\n",
    "\n",
    "x = math.exp(2)*math.sin(math.pi)/6+math.log(3)*math.cos(math.pi)/9-5**3\n",
    "print('Computation:\\t',x)"
   ]
  }
 ],
 "metadata": {
  "kernelspec": {
   "display_name": "Python 3",
   "language": "python",
   "name": "python3"
  },
  "language_info": {
   "codemirror_mode": {
    "name": "ipython",
    "version": 3
   },
   "file_extension": ".py",
   "mimetype": "text/x-python",
   "name": "python",
   "nbconvert_exporter": "python",
   "pygments_lexer": "ipython3",
   "version": "3.8.6"
  }
 },
 "nbformat": 4,
 "nbformat_minor": 5
}
